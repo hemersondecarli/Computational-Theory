{
 "cells": [
  {
   "cell_type": "markdown",
   "metadata": {},
   "source": [
    "Task 1: Binary Representations\n",
    "\n",
    "Create the following functions in Python, demonstrating their use with examples and tests.\n",
    "\n",
    "The function rotl(x, n=1) that rotates the bits in a 32-bit unsigned integer to the left n places.\n",
    "\n",
    "The function rotr(x, n=1) that rotates the bits in a 32-bit unsigned integer to the right n places.\n",
    "\n",
    "The function ch(x, y, z) that chooses the bits from y where x has bits set to 1 and bits in z where x has bits set to 0.\n",
    "\n",
    "The function maj(x, y, z) which takes a majority vote of the bits in x, y, and z.\n",
    "The output should have a 1 in bit position i where at least two of x, y, and z have 1's in position i.\n",
    "All other output bit positions should be 0."
   ]
  },
  {
   "cell_type": "code",
   "execution_count": 9,
   "metadata": {},
   "outputs": [],
   "source": [
    "def rotl(x, n=1):\n",
    "    \"\"\"Rotate the bits in a 32-bit unsigned integer to the left n places.\"\"\"\n",
    "    return ((x << n) | (x >> (32 - n))) & 0xFFFFFFFF\n",
    "\n",
    "def rotr(x, n=1):\n",
    "    \"\"\"Rotate the bits in a 32-bit unsigned integer to the right n places.\"\"\"\n",
    "    return ((x >> n) | (x << (32 - n))) & 0xFFFFFFFF\n"
   ]
  }
 ],
 "metadata": {
  "kernelspec": {
   "display_name": "Python 3",
   "language": "python",
   "name": "python3"
  },
  "language_info": {
   "codemirror_mode": {
    "name": "ipython",
    "version": 3
   },
   "file_extension": ".py",
   "mimetype": "text/x-python",
   "name": "python",
   "nbconvert_exporter": "python",
   "pygments_lexer": "ipython3",
   "version": "3.12.6"
  }
 },
 "nbformat": 4,
 "nbformat_minor": 2
}
