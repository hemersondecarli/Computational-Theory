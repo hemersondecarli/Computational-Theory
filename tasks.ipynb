{
 "cells": [
  {
   "cell_type": "markdown",
   "metadata": {},
   "source": [
    "# Task 1: Binary Representations\n",
    "\n",
    "Create the following functions in Python, demonstrating their use with examples and tests.\n",
    "\n",
    "The function rotl(x, n=1) that rotates the bits in a 32-bit unsigned integer to the left n places.\n",
    "\n",
    "The function rotr(x, n=1) that rotates the bits in a 32-bit unsigned integer to the right n places.\n",
    "\n",
    "The function ch(x, y, z) that chooses the bits from y where x has bits set to 1 and bits in z where x has bits set to 0.\n",
    "\n",
    "The function maj(x, y, z) which takes a majority vote of the bits in x, y, and z.\n",
    "The output should have a 1 in bit position i where at least two of x, y, and z have 1's in position i.\n",
    "All other output bit positions should be 0.\n",
    "\n",
    "##### REF: https://realpython.com/python-bitwise-operators/\n"
   ]
  },
  {
   "cell_type": "code",
   "execution_count": null,
   "metadata": {},
   "outputs": [
    {
     "name": "stdout",
     "output_type": "stream",
     "text": [
      "rotl(x, 4): 0b111000111100001111000011111011\n",
      "rotr(x, 4): 0b11111011001110001111000011110000\n",
      "ch(x, y, z): 0b11000000111111001111110011111100\n",
      "maj(x, y, z): 0b11110000110011001100110011001100\n"
     ]
    }
   ],
   "source": [
    "def rotl(x, n=1):\n",
    "    \"\"\"Rotate the bits in a 32-bit unsigned integer to the left n places.\"\"\"\n",
    "    return ((x << n) | (x >> (32 - n))) & 0xFFFFFFFF\n",
    "\n",
    "def rotr(x, n=1):\n",
    "    \"\"\"Rotate the bits in a 32-bit unsigned integer to the right n places.\"\"\"\n",
    "    return ((x >> n) | (x << (32 - n))) & 0xFFFFFFFF\n",
    "\n",
    "def ch(x, y, z):\n",
    "    \"\"\"Choose bits from y where x has bits set to 1 and bits from z where x has bits set to 0.\"\"\"\n",
    "    return (x & y) ^ (~x & z)\n",
    "\n",
    "def maj(x, y, z):\n",
    "    \"\"\"Majority function: output bit is 1 where at least two of x, y, and z have 1's.\"\"\"\n",
    "    return (x & y) ^ (x & z) ^ (y & z)\n",
    "\n",
    "# Example usage with test values\n",
    "x = 0b10110011100011110000111100001111  # Example 32-bit binary number\n",
    "y = 0b11001100110011001100110011001100  #  test binary number\n",
    "z = 0b11110000111100001111000011110000  #  test binary number\n",
    "\n",
    "# Rotate left and print result\n",
    "print(\"rotl(x, 4):\", bin(rotl(x, 4)))  # Rotates x left by 4 bits\n",
    "\n",
    "# Rotate right and print result\n",
    "print(\"rotr(x, 4):\", bin(rotr(x, 4)))  # Rotates x right by 4 bits\n",
    "\n",
    "# Apply the ch function and print result\n",
    "print(\"ch(x, y, z):\", bin(ch(x, y, z)))  # Chooses bits from y or z based on x\n",
    "\n",
    "# Apply the maj function and print result\n",
    "print(\"maj(x, y, z):\", bin(maj(x, y, z)))  # Outputs the majority vote of bits\n"
   ]
  },
  {
   "cell_type": "markdown",
   "metadata": {},
   "source": [
    "# Task 2: Hash Functions\n",
    "The following hash function is from The C Programming Language by Brian Kernighan and Dennis Ritchie.\n",
    "Convert it to Python, test it, and suggest why the values 31 and 101 are used.\n",
    "\n",
    "unsigned hash(char *s) {\n",
    "    unsigned hashval;\n",
    "    for (hashval = 0; *s != '\\0'; s++)\n",
    "        hashval = *s + 31 * hashval;\n",
    "    return hashval % 101;\n",
    "}"
   ]
  },
  {
   "cell_type": "code",
   "execution_count": null,
   "metadata": {},
   "outputs": [
    {
     "name": "stdout",
     "output_type": "stream",
     "text": [
      "Hash of 'hello': 17\n",
      "Hash of 'world': 34\n",
      "Hash of 'hash': 15\n",
      "Hash of 'function': 100\n",
      "Hash of 'example': 28\n"
     ]
    }
   ],
   "source": [
    "def hash_function(s: str) -> int:\n",
    "    hashval = 0\n",
    "    for char in s:\n",
    "        hashval = ord(char) + 31 * hashval  # 31 is a prime number used as a multiplier.\n",
    "    return hashval % 101  # 101 is a prime number used as the modulus.\n",
    "\n",
    "# Example\n",
    "if __name__ == \"__main__\":\n",
    "    test_strings = [\"hello\", \"world\", \"hash\", \"function\", \"example\"]\n",
    "    for string in test_strings:\n",
    "        print(f\"Hash of '{string}': {hash_function(string)}\")\n"
   ]
  },
  {
   "cell_type": "markdown",
   "metadata": {},
   "source": [
    "# suggest why the values 31 and 101 are used\n",
    "31 is being used because it is a small prime number that distributes hash values efficiently and allows for fast computation.\n",
    "\n",
    "101 is being used because it is a prime number that ensures an even distribution of hash values and prevents common patterns in character sets."
   ]
  },
  {
   "cell_type": "markdown",
   "metadata": {},
   "source": [
    "# Task 3: SHA256\n",
    "Write a Python function that calculates the SHA256 padding for a given file.\n",
    "The function should take a file path as input.\n",
    "It should print, in hex, the padding that would be applied to it.\n",
    "The specification states that the following should be appended to a message:\n",
    "\n",
    "a1 bit;\n",
    "enough 0 bits so the length in bits of padded message is the smallest possible multiple of 512;\n",
    "the length in bits of the original input as a big-endian 64-bit unsigned integer.\n",
    "\n",
    "### The example in the specification is a file containing the three bytes abc:\n",
    "\n",
    "01100001 01100010 01100011\n",
    "\n",
    "### The output would be:\n",
    "\n",
    "80 00 00 00 00 00 00 00 00 00 00 00 00 00 00 00 00 00 00 00 00 00 00 00 00 00\n",
    "00 00 00 00 00 00 00 00 00 00 00 00 00 00 00 00 00 00 00 00 00 00 00 00 00 00\n",
    "00 00 00 00 00 00 00 00 18"
   ]
  },
  {
   "cell_type": "markdown",
   "metadata": {},
   "source": [
    "## Added function to read file content as bytes\n"
   ]
  },
  {
   "cell_type": "code",
   "execution_count": null,
   "metadata": {},
   "outputs": [
    {
     "name": "stdout",
     "output_type": "stream",
     "text": [
      "File Content in Hex: 616263\n"
     ]
    }
   ],
   "source": [
    "def read_file(file_path):\n",
    "    \"\"\"Read the file as bytes.\"\"\"\n",
    "    with open(file_path, \"rb\") as f:\n",
    "        data = f.read()\n",
    "    return data\n",
    "\n",
    "file_path = \"abc.txt\"  # File Path\n",
    "data = read_file(file_path)\n",
    "print(\"File Content in Hex:\", data.hex())\n"
   ]
  },
  {
   "cell_type": "markdown",
   "metadata": {},
   "source": [
    "## Added function to compute original message length in bits\n"
   ]
  },
  {
   "cell_type": "code",
   "execution_count": null,
   "metadata": {},
   "outputs": [
    {
     "name": "stdout",
     "output_type": "stream",
     "text": [
      "Original Message Length in Bits: 24\n"
     ]
    }
   ],
   "source": [
    "def compute_message_length(data):\n",
    "    \"\"\"Compute the original message length in bits.\"\"\"\n",
    "    return len(data) * 8\n",
    "\n",
    "original_length_bits = compute_message_length(data)\n",
    "print(f\"Original Message Length in Bits: {original_length_bits}\")\n"
   ]
  },
  {
   "cell_type": "markdown",
   "metadata": {},
   "source": [
    "## Added function to append '1' bit (0x80) to message\n"
   ]
  },
  {
   "cell_type": "code",
   "execution_count": null,
   "metadata": {},
   "outputs": [
    {
     "name": "stdout",
     "output_type": "stream",
     "text": [
      "Data after adding '1' bit (hex): 61626380\n"
     ]
    }
   ],
   "source": [
    "def append_one_bit(data):\n",
    "    \"\"\"Append the '1' bit (0x80 in hex) to the message.\"\"\"\n",
    "    return data + b'\\x80'\n",
    "\n",
    "\n",
    "data_with_one_bit = append_one_bit(data)\n",
    "print(\"Data after adding '1' bit (hex):\", data_with_one_bit.hex())\n"
   ]
  },
  {
   "cell_type": "markdown",
   "metadata": {},
   "source": [
    "## Added function to compute required zero padding\n"
   ]
  },
  {
   "cell_type": "code",
   "execution_count": null,
   "metadata": {},
   "outputs": [
    {
     "name": "stdout",
     "output_type": "stream",
     "text": [
      "Zero Padding Length: 51 bytes\n",
      "Zero Padding in Hex: 000000000000000000000000000000000000000000000000000000000000000000000000000000000000000000000000000000\n"
     ]
    }
   ],
   "source": [
    "def compute_zero_padding(data):\n",
    "    \"\"\"Calculate the number of zero bytes needed so that the length is 448 mod 512.\"\"\"\n",
    "    padding_length = (56 - (len(data) + 1) % 64) % 64\n",
    "    return b'\\x00' * padding_length\n",
    "\n",
    "\n",
    "zero_padding = compute_zero_padding(data_with_one_bit)\n",
    "print(f\"Zero Padding Length: {len(zero_padding)} bytes\")\n",
    "print(\"Zero Padding in Hex:\", zero_padding.hex())\n"
   ]
  },
  {
   "cell_type": "markdown",
   "metadata": {},
   "source": [
    "## Added function to append original message length as 64-bit big-endian integer\n"
   ]
  },
  {
   "cell_type": "code",
   "execution_count": null,
   "metadata": {},
   "outputs": [
    {
     "name": "stdout",
     "output_type": "stream",
     "text": [
      "Original Length in 64-bit Big-Endian (Hex): 0000000000000018\n"
     ]
    }
   ],
   "source": [
    "def append_message_length(data_length_bits):\n",
    "    \"\"\"Append the original message length as a 64-bit big-endian integer.\"\"\"\n",
    "    return data_length_bits.to_bytes(8, 'big')\n",
    "\n",
    "\n",
    "length_bytes = append_message_length(original_length_bits)\n",
    "print(\"Original Length in 64-bit Big-Endian (Hex):\", length_bytes.hex())\n"
   ]
  },
  {
   "cell_type": "markdown",
   "metadata": {},
   "source": [
    "## Full SHA-256 padding"
   ]
  },
  {
   "cell_type": "code",
   "execution_count": 50,
   "metadata": {},
   "outputs": [
    {
     "name": "stdout",
     "output_type": "stream",
     "text": [
      "File content in hex: 616263\n",
      "Original message length in bits: 24\n",
      "Data after appending '1' bit: 61626380\n",
      "Appending 52 zero bits.\n",
      "Original length in 64-bit big-endian (Hex): 0000000000000018\n",
      "--------------------------------------------------------------------------------\n",
      "Final Padded Message in Hex:\n",
      "61 62 63 80 00 00 00 00 00 00 00 00 00 00 00 00 00 00 00 00 00 00 00 00 00 00 00 00 00 00 00 00 00 00 00 00 00 00 00 00 00 00 00 00 00 00 00 00 00 00 00 00 00 00 00 00 00 00 00 00 00 00 00 18\n"
     ]
    }
   ],
   "source": [
    "import os\n",
    "\n",
    "# Read file content as bytes\n",
    "def read_file(file_path):\n",
    "    \"\"\"Read the file as bytes.\"\"\"\n",
    "    with open(file_path, \"rb\") as f:\n",
    "        data = f.read()\n",
    "    return data\n",
    "\n",
    "# Compute original message length in bits\n",
    "def compute_message_length(data):\n",
    "    \"\"\"Compute the original message length in bits.\"\"\"\n",
    "    return len(data) * 8  # Length in bits\n",
    "\n",
    "# Append '1' Bit (0x80)\n",
    "def append_one_bit(data):\n",
    "    \"\"\"Append the '1' bit (0x80 in hex) to the message.\"\"\"\n",
    "    return data + b'\\x80'\n",
    "\n",
    "# Compute Zero Padding (448 mod 512)\n",
    "def compute_zero_padding(data):\n",
    "    \"\"\"Calculate the number of zero bytes needed so that the length is 448 mod 512.\"\"\"\n",
    "    padding_length = (56 - (len(data) % 64)) % 64\n",
    "    return b'\\x00' * padding_length\n",
    "\n",
    "# Append Message Length as 64-bit Big-Endian Integer\n",
    "def append_message_length(data_length_bits):\n",
    "    \"\"\"Append the original message length as a 64-bit big-endian integer.\"\"\"\n",
    "    return data_length_bits.to_bytes(8, 'big')\n",
    "\n",
    "# Final Function to Compute SHA-256 Padding\n",
    "def sha256_padding(file_path):\n",
    "    \"\"\"Compute and display the SHA-256 padding for a given file.\"\"\"\n",
    "\n",
    "    # Read file content\n",
    "    data = read_file(file_path)\n",
    "    print(\"File content in hex:\", data.hex())\n",
    "\n",
    "    # Compute original length\n",
    "    original_length_bits = compute_message_length(data)\n",
    "    print(f\"Original message length in bits: {original_length_bits}\")\n",
    "\n",
    "    # Append '1' bit (0x80)\n",
    "    data_with_one_bit = append_one_bit(data)\n",
    "    print(\"Data after appending '1' bit:\", data_with_one_bit.hex())\n",
    "\n",
    "    # Compute zero padding\n",
    "    zero_padding = compute_zero_padding(data_with_one_bit)\n",
    "    print(f\"Appending {len(zero_padding)} zero bits.\")\n",
    "\n",
    "    # Append length as 64-bit big-endian integer\n",
    "    length_bytes = append_message_length(original_length_bits)\n",
    "    print(\"Original length in 64-bit big-endian (Hex):\", length_bytes.hex())\n",
    "\n",
    "    # Construct the full padded message (original message + padding + length)\n",
    "    padded_message = data_with_one_bit + zero_padding + length_bytes\n",
    "\n",
    "    # Final message is a multiple of 64 bytes (512 bits)\n",
    "    assert len(padded_message) % 64 == 0, \"Error: Final message is not a multiple of 64 bytes!\"\n",
    "\n",
    "    print(\"-\" * 80)\n",
    "    print(\"Final Padded Message in Hex:\")\n",
    "    print(\" \".join(f\"{byte:02x}\" for byte in padded_message))\n",
    "\n",
    "    return padded_message \n",
    "\n",
    "file_path = \"abc.txt\"  # file path\n",
    "padded_output = sha256_padding(file_path)\n"
   ]
  },
  {
   "cell_type": "markdown",
   "metadata": {},
   "source": [
    "# Task 4: Prime Numbers\n",
    "\n",
    "Calculate the first 100 prime numbers using two different algorithms.\n",
    "Any algorithms that are well-established and works correctly are okay to use.\n",
    "Explain how the algorithms work."
   ]
  },
  {
   "cell_type": "markdown",
   "metadata": {},
   "source": [
    "### **Trial Division Algorithm**: A basic method that checks divisibility up to the square root of the number."
   ]
  },
  {
   "cell_type": "code",
   "execution_count": 3,
   "metadata": {},
   "outputs": [
    {
     "name": "stdout",
     "output_type": "stream",
     "text": [
      "First 100 primes (Trial Division): [2, 3, 5, 7, 11, 13, 17, 19, 23, 29, 31, 37, 41, 43, 47, 53, 59, 61, 67, 71, 73, 79, 83, 89, 97, 101, 103, 107, 109, 113, 127, 131, 137, 139, 149, 151, 157, 163, 167, 173, 179, 181, 191, 193, 197, 199, 211, 223, 227, 229, 233, 239, 241, 251, 257, 263, 269, 271, 277, 281, 283, 293, 307, 311, 313, 317, 331, 337, 347, 349, 353, 359, 367, 373, 379, 383, 389, 397, 401, 409, 419, 421, 431, 433, 439, 443, 449, 457, 461, 463, 467, 479, 487, 491, 499, 503, 509, 521, 523, 541]\n"
     ]
    }
   ],
   "source": [
    "import math\n",
    "\n",
    "def is_prime(n):\n",
    "    \"\"\"Check if a number is prime using trial division.\"\"\"\n",
    "    if n < 2:\n",
    "        return False\n",
    "    if n in (2, 3):\n",
    "        return True\n",
    "    if n % 2 == 0 or n % 3 == 0:\n",
    "        return False\n",
    "    for i in range(5, int(math.sqrt(n)) + 1, 2):  # Check for odd numbers only\n",
    "        if n % i == 0:\n",
    "            return False\n",
    "    return True\n",
    "\n",
    "def first_n_primes_trial(n):\n",
    "    \"\"\"Find the first n prime numbers using trial division.\"\"\"\n",
    "    primes = []\n",
    "    num = 2\n",
    "    while len(primes) < n:\n",
    "        if is_prime(num):\n",
    "            primes.append(num)\n",
    "        num += 1\n",
    "    return primes\n",
    "\n",
    "# Creates & display the first 100 prime numbers using trial division\n",
    "primes_trial = first_n_primes_trial(100)\n",
    "print(\"First 100 primes (Trial Division):\", primes_trial)\n"
   ]
  },
  {
   "cell_type": "markdown",
   "metadata": {},
   "source": [
    "### Trial Division Algorithm\n",
    "\n",
    "#### How It Works:\n",
    "1. Start with `2`, the first prime.\n",
    "2. Check if each number is divisible only by 1 and itself.\n",
    "3. Optimize by checking divisibility only up to the square root of the number.\n",
    "4. If a number is not divisible by any value in this range, it's a prime number."
   ]
  },
  {
   "cell_type": "markdown",
   "metadata": {},
   "source": [
    "### **Sieve of Eratosthenes**: A faster algorithm for generating multiple prime numbers efficiently."
   ]
  },
  {
   "cell_type": "code",
   "execution_count": 4,
   "metadata": {},
   "outputs": [
    {
     "name": "stdout",
     "output_type": "stream",
     "text": [
      "First 100 primes (Sieve of Eratosthenes): [2, 3, 5, 7, 11, 13, 17, 19, 23, 29, 31, 37, 41, 43, 47, 53, 59, 61, 67, 71, 73, 79, 83, 89, 97, 101, 103, 107, 109, 113, 127, 131, 137, 139, 149, 151, 157, 163, 167, 173, 179, 181, 191, 193, 197, 199, 211, 223, 227, 229, 233, 239, 241, 251, 257, 263, 269, 271, 277, 281, 283, 293, 307, 311, 313, 317, 331, 337, 347, 349, 353, 359, 367, 373, 379, 383, 389, 397, 401, 409, 419, 421, 431, 433, 439, 443, 449, 457, 461, 463, 467, 479, 487, 491, 499, 503, 509, 521, 523, 541]\n"
     ]
    }
   ],
   "source": [
    "def sieve_of_eratosthenes(limit):\n",
    "    \"\"\"Find all prime numbers up to a given limit using the Sieve of Eratosthenes.\"\"\"\n",
    "    sieve = [True] * (limit + 1)  # Assume all numbers are prime initially\n",
    "    sieve[0], sieve[1] = False, False  # 0 and 1 are not prime\n",
    "\n",
    "    for num in range(2, int(math.sqrt(limit)) + 1):\n",
    "        if sieve[num]:  # If num is still marked prime\n",
    "            for multiple in range(num * num, limit + 1, num):  # Mark its multiples as non-prime\n",
    "                sieve[multiple] = False\n",
    "\n",
    "    return [num for num, is_prime in enumerate(sieve) if is_prime]\n",
    "\n",
    "# Create & display the first 100 prime numbers using the Sieve of Eratosthenes\n",
    "primes_sieve = sieve_of_eratosthenes(550)[:100]  # Find enough primes\n",
    "print(\"First 100 primes (Sieve of Eratosthenes):\", primes_sieve)\n"
   ]
  },
  {
   "cell_type": "markdown",
   "metadata": {},
   "source": [
    "### Sieve of Eratosthenes Algorithm\n",
    "\n",
    "#### How It Works:\n",
    "1. Start with a list of numbers marked as prime.\n",
    "2. Beginning with `2`, mark all multiples of 2 as non-prime.\n",
    "3. Move to the next unmarked number and mark all its multiples.\n",
    "4. Continue this process up to the square root of the limit.\n",
    "5. The remaining unmarked numbers are prime."
   ]
  },
  {
   "cell_type": "markdown",
   "metadata": {},
   "source": [
    "# Comparing Trial Division vs Sieve of Eratosthenes"
   ]
  },
  {
   "cell_type": "code",
   "execution_count": 7,
   "metadata": {},
   "outputs": [
    {
     "name": "stdout",
     "output_type": "stream",
     "text": [
      "Trial Division Time: 0.001001 seconds\n",
      "Sieve of Eratosthenes Time: 0.000000 seconds\n"
     ]
    }
   ],
   "source": [
    "import time\n",
    "\n",
    "# Measure execution time of Trial Division\n",
    "start_time = time.time()\n",
    "primes_trial = first_n_primes_trial(100)\n",
    "trial_time = time.time() - start_time\n",
    "\n",
    "# Measure execution time of Sieve of Eratosthenes\n",
    "start_time = time.time()\n",
    "primes_sieve = sieve_of_eratosthenes(550)[:100]\n",
    "sieve_time = time.time() - start_time\n",
    "\n",
    "# results\n",
    "print(f\"Trial Division Time: {trial_time:.6f} seconds\")\n",
    "print(f\"Sieve of Eratosthenes Time: {sieve_time:.6f} seconds\")\n"
   ]
  },
  {
   "cell_type": "markdown",
   "metadata": {},
   "source": [
    "# Task 5: Roots\n",
    "Calculate the first 32 bits of the fractional part of the square roots of the first 100 prime numbers.\n",
    "\n",
    "#### References:\n",
    "- [Floating Point Binary Representation](https://en.wikipedia.org/wiki/Floating-point_arithmetic)\n",
    "- [Prime Number Generation](https://en.wikipedia.org/wiki/Prime_number)\n",
    "- [Square Root Fractional Extraction](https://en.wikipedia.org/wiki/Square_root)"
   ]
  },
  {
   "cell_type": "markdown",
   "metadata": {},
   "source": [
    "### Finding the first 100 prime numbers."
   ]
  },
  {
   "cell_type": "code",
   "execution_count": 9,
   "metadata": {},
   "outputs": [
    {
     "name": "stdout",
     "output_type": "stream",
     "text": [
      "First 100 primes: [2, 3, 5, 7, 11, 13, 17, 19, 23, 29, 31, 37, 41, 43, 47, 53, 59, 61, 67, 71, 73, 79, 83, 89, 97, 101, 103, 107, 109, 113, 127, 131, 137, 139, 149, 151, 157, 163, 167, 173, 179, 181, 191, 193, 197, 199, 211, 223, 227, 229, 233, 239, 241, 251, 257, 263, 269, 271, 277, 281, 283, 293, 307, 311, 313, 317, 331, 337, 347, 349, 353, 359, 367, 373, 379, 383, 389, 397, 401, 409, 419, 421, 431, 433, 439, 443, 449, 457, 461, 463, 467, 479, 487, 491, 499, 503, 509, 521, 523, 541]\n"
     ]
    }
   ],
   "source": [
    "import math\n",
    "\n",
    "def is_prime(n):\n",
    "    \"\"\"Check if a number is prime using trial division.\"\"\"\n",
    "    if n < 2:\n",
    "        return False\n",
    "    if n in (2, 3):\n",
    "        return True\n",
    "    if n % 2 == 0 or n % 3 == 0:\n",
    "        return False\n",
    "    for i in range(5, int(math.sqrt(n)) + 1, 2):  # Check odd numbers only\n",
    "        if n % i == 0:\n",
    "            return False\n",
    "    return True\n",
    "\n",
    "def first_n_primes(n):\n",
    "    \"\"\"Find the first n prime numbers.\"\"\"\n",
    "    primes = []\n",
    "    num = 2\n",
    "    while len(primes) < n:\n",
    "        if is_prime(num):\n",
    "            primes.append(num)\n",
    "        num += 1\n",
    "    return primes\n",
    "\n",
    "# Generate first 100 prime numbers\n",
    "primes = first_n_primes(100)\n",
    "print(\"First 100 primes:\", primes)\n"
   ]
  },
  {
   "cell_type": "markdown",
   "metadata": {},
   "source": [
    "### Computing the square root of each prime"
   ]
  },
  {
   "cell_type": "code",
   "execution_count": 10,
   "metadata": {},
   "outputs": [
    {
     "name": "stdout",
     "output_type": "stream",
     "text": [
      "Fractional parts of sqrt(prime numbers): [0.41421356237309515, 0.7320508075688772, 0.2360679774997898, 0.6457513110645907, 0.3166247903553998, 0.6055512754639891, 0.12310562561766059, 0.358898943540674, 0.7958315233127191, 0.38516480713450374, 0.5677643628300215, 0.08276253029821934, 0.40312423743284853, 0.5574385243020004, 0.8556546004010439, 0.28010988928051805, 0.6811457478686078, 0.810249675906654, 0.18535277187245036, 0.42614977317635905, 0.5440037453175304, 0.8881944173155887, 0.11043357914429919, 0.43398113205660316, 0.8488578017961039, 0.049875621120889946, 0.14889156509221912, 0.34408043278860134, 0.4403065089105507, 0.63014581273465, 0.26942766958464404, 0.44552314225959755, 0.7046999107196257, 0.7898261225515952, 0.20655561573370207, 0.2882057274445078, 0.5299640861416677, 0.7671453348037041, 0.9228479833200858, 0.15294643796590535, 0.3790881602596521, 0.45362404707370985, 0.8202749610852536, 0.892443989449804, 0.035668847618198996, 0.10673597966588488, 0.5258390463339495, 0.9331845230680784, 0.06651917331936374, 0.13274595042155646, 0.2643375224737472, 0.4596248337403068, 0.5241746962600242, 0.8429795177548591, 0.031219541881398527, 0.21727474022685556, 0.4012194668567268, 0.4620776331543297, 0.6433169770932388, 0.763054614240211, 0.8226038412607224, 0.1172427686236901, 0.5214154679352312, 0.635192088548397, 0.6918060129541317, 0.8044938147648573, 0.19340539866025352, 0.35755975068581947, 0.627936010197157, 0.6815416922694055, 0.7882942280559355, 0.9472953214964157, 0.15724406066801677, 0.3132079158279666, 0.46792233393178506, 0.5703857907809251, 0.7230829233160208, 0.9248588451712756, 0.024984394500787488, 0.22374841615668473, 0.4694894904587201, 0.5182845286831927, 0.7605394920266946, 0.8086520466848128, 0.9523268397569638, 0.047565179849186734, 0.1896201004170912, 0.37755832643194864, 0.470910553583888, 0.5174347913500128, 0.6101827849743096, 0.8860686282392898, 0.06807649071390998, 0.15851980616033856, 0.33830790368867625, 0.4276614920058037, 0.5610283453569558, 0.8254244210266535, 0.8691932520585439, 0.259406699226016]\n"
     ]
    }
   ],
   "source": [
    "def fractional_part_sqrt(n):\n",
    "    \"\"\"Compute the fractional part of the square root of n.\"\"\"\n",
    "    sqrt_n = math.sqrt(n)\n",
    "    return sqrt_n - math.floor(sqrt_n)  # Extract only the fractional part\n",
    "\n",
    "# Compute fractional parts for first 100 primes\n",
    "fractional_parts = [fractional_part_sqrt(p) for p in primes]\n",
    "print(\"Fractional parts of sqrt(prime numbers):\", fractional_parts)\n"
   ]
  },
  {
   "cell_type": "markdown",
   "metadata": {},
   "source": [
    "### Converting Fractional Parts to 32-bit Binary"
   ]
  },
  {
   "cell_type": "code",
   "execution_count": 11,
   "metadata": {},
   "outputs": [
    {
     "name": "stdout",
     "output_type": "stream",
     "text": [
      "Prime: 2, Fractional: 0.41421356237309515, Binary: 01101010000010011110011001100111\n",
      "Prime: 3, Fractional: 0.7320508075688772, Binary: 10111011011001111010111010000101\n",
      "Prime: 5, Fractional: 0.2360679774997898, Binary: 00111100011011101111001101110010\n",
      "Prime: 7, Fractional: 0.6457513110645907, Binary: 10100101010011111111010100111010\n",
      "Prime: 11, Fractional: 0.3166247903553998, Binary: 01010001000011100101001001111111\n",
      "Prime: 13, Fractional: 0.6055512754639891, Binary: 10011011000001010110100010001100\n",
      "Prime: 17, Fractional: 0.12310562561766059, Binary: 00011111100000111101100110101011\n",
      "Prime: 19, Fractional: 0.358898943540674, Binary: 01011011111000001100110100011001\n",
      "Prime: 23, Fractional: 0.7958315233127191, Binary: 11001011101110111001110101011101\n",
      "Prime: 29, Fractional: 0.38516480713450374, Binary: 01100010100110100010100100101010\n"
     ]
    }
   ],
   "source": [
    "def fractional_to_binary(fraction, bits=32):\n",
    "    \"\"\"Convert a fractional part to a 32-bit binary representation.\"\"\"\n",
    "    binary_rep = \"\"\n",
    "    for _ in range(bits):\n",
    "        fraction *= 2\n",
    "        if fraction >= 1:\n",
    "            binary_rep += \"1\"\n",
    "            fraction -= 1\n",
    "        else:\n",
    "            binary_rep += \"0\"\n",
    "    return binary_rep\n",
    "\n",
    "# Convert fractional parts to 32-bit binary\n",
    "binary_representations = [fractional_to_binary(frac) for frac in fractional_parts]\n",
    "\n",
    "# Print first 10 results\n",
    "for i in range(10):\n",
    "    print(f\"Prime: {primes[i]}, Fractional: {fractional_parts[i]}, Binary: {binary_representations[i]}\")\n"
   ]
  },
  {
   "cell_type": "markdown",
   "metadata": {},
   "source": [
    "# Task 6: Proof of Work\n",
    "Find the word(s) in the English language with the greatest number of 0 bits at the beginning of their SHA256 hash digest.\n",
    "Include proof that any word you list is in at least one English dictionary."
   ]
  },
  {
   "cell_type": "markdown",
   "metadata": {},
   "source": [
    "### Load a list of English words from a dictionary file \"words\""
   ]
  },
  {
   "cell_type": "code",
   "execution_count": 19,
   "metadata": {},
   "outputs": [
    {
     "name": "stdout",
     "output_type": "stream",
     "text": [
      "Loaded 3000 words.\n"
     ]
    }
   ],
   "source": [
    "import hashlib\n",
    "\n",
    "# Load a list of words from words.txt\n",
    "def load_wordlist(file_path=\"words.txt\"):\n",
    "    \"\"\"Load a list of words from a dictionary file.\"\"\"\n",
    "    with open(file_path, \"r\") as file:\n",
    "        words = file.read().splitlines()\n",
    "    return words\n",
    "\n",
    "# Load words from a local dictionary file\n",
    "wordlist = load_wordlist()\n",
    "print(f\"Loaded {len(wordlist)} words.\")\n"
   ]
  },
  {
   "cell_type": "markdown",
   "metadata": {},
   "source": [
    "### Computing the SHA-256 hash for each word"
   ]
  },
  {
   "cell_type": "code",
   "execution_count": 20,
   "metadata": {},
   "outputs": [
    {
     "name": "stdout",
     "output_type": "stream",
     "text": [
      "SHA-256 Binary of 'hello': 0010110011110010010011011011101001011111101100001010001100001110001001101110100000111011001010101100010110111001111000101001111000011011000101100001111001011100000111111010011101000010010111100111001100000100001100110110001010010011100010111001100000100100\n"
     ]
    }
   ],
   "source": [
    "def sha256_hash(word):\n",
    "    \"\"\"Computing the SHA-256 hash of a word and return it in binary format.\"\"\"\n",
    "    return bin(int(hashlib.sha256(word.encode()).hexdigest(), 16))[2:].zfill(256)\n",
    "\n",
    "# Example\n",
    "test_word = \"hello\"\n",
    "test_hash = sha256_hash(test_word)\n",
    "print(f\"SHA-256 Binary of '{test_word}': {test_hash}\")\n"
   ]
  },
  {
   "cell_type": "markdown",
   "metadata": {},
   "source": [
    "### Counting the number of leading 0 bits in each hash"
   ]
  },
  {
   "cell_type": "code",
   "execution_count": 22,
   "metadata": {},
   "outputs": [
    {
     "name": "stdout",
     "output_type": "stream",
     "text": [
      "Leading zeros in 'hello': 2\n"
     ]
    }
   ],
   "source": [
    "def count_leading_zeros(binary_hash):\n",
    "    \"\"\"Count the number of leading 0 bits in a SHA-256 hash.\"\"\"\n",
    "    return len(binary_hash) - len(binary_hash.lstrip('0'))\n",
    "\n",
    "# Example hash\n",
    "print(f\"Leading zeros in '{test_word}': {count_leading_zeros(test_hash)}\")\n"
   ]
  },
  {
   "cell_type": "markdown",
   "metadata": {},
   "source": [
    "### Finding the word with the highest number of leading 0 bits"
   ]
  },
  {
   "cell_type": "code",
   "execution_count": 31,
   "metadata": {},
   "outputs": [
    {
     "name": "stdout",
     "output_type": "stream",
     "text": [
      "The word with the most leading zeros is: mirror (11 leading 0 bits)\n"
     ]
    }
   ],
   "source": [
    "def find_best_word(wordlist):\n",
    "    \"\"\"Find the word(s) with the most leading 0 bits in their SHA-256 hash.\"\"\"\n",
    "    best_word = None\n",
    "    max_zeros = 0\n",
    "\n",
    "    for word in wordlist:\n",
    "        binary_hash = sha256_hash(word)\n",
    "        zero_count = count_leading_zeros(binary_hash)\n",
    "\n",
    "        if zero_count > max_zeros:\n",
    "            best_word = word\n",
    "            max_zeros = zero_count\n",
    "\n",
    "    return best_word, max_zeros\n",
    "\n",
    "# Find the best word\n",
    "best_word, max_zeros = find_best_word(wordlist)\n",
    "print(f\"The word with the most leading zeros is: {best_word} ({max_zeros} leading 0 bits)\")\n"
   ]
  },
  {
   "cell_type": "markdown",
   "metadata": {},
   "source": [
    "### Verify the word exist in at least one English dictionary"
   ]
  },
  {
   "cell_type": "code",
   "execution_count": 33,
   "metadata": {},
   "outputs": [],
   "source": [
    "import webbrowser\n",
    "\n",
    "def verify_word_online(word):\n",
    "    \"\"\"Opens a web search for the word in an online dictionary.\"\"\"\n",
    "    search_url = f\"https://www.merriam-webster.com/dictionary/{word}\"\n",
    "    webbrowser.open(search_url)\n",
    "\n",
    "# Verify the best word found\n",
    "verify_word_online(best_word)\n"
   ]
  },
  {
   "cell_type": "markdown",
   "metadata": {},
   "source": [
    "# Task 7: Turing Machines\n",
    "- Design a Turing Machine that adds 1 to a binary number on its tape.\n",
    "- The machine should start at the left-most non-blank symbol.\n",
    "- It should treat the right-most symbol as the least significant bit.\n",
    "- For example, suppose the following is on the tape at the start:\n",
    "- 100111\n",
    "- Your Turing machine should leave the following on the tape when it completes:\n",
    "- 101000"
   ]
  },
  {
   "cell_type": "code",
   "execution_count": null,
   "metadata": {},
   "outputs": [
    {
     "name": "stdout",
     "output_type": "stream",
     "text": [
      "Input: 100111 -> Output: 101000\n",
      "Input: 111 -> Output: 1000\n",
      "Input: 0 -> Output: 1\n",
      "Input: 1 -> Output: 10\n",
      "Input: 1111 -> Output: 10000\n"
     ]
    }
   ],
   "source": [
    "def turing_machine_add_one(tape):\n",
    "    \"\"\"Simulates a Turing Machine that adds 1 to a binary number.\"\"\"\n",
    "    tape = list(tape)  # Convert tape to list for mutability\n",
    "    head = len(tape) - 1  # Start at the right-most bit \n",
    "    \n",
    "    while head >= 0:\n",
    "        if tape[head] == '1':  # If we see a 1, flip it to 0 (carry over)\n",
    "            tape[head] = '0'\n",
    "        else:  # If we see a 0, flip it to 1 and halt\n",
    "            tape[head] = '1'\n",
    "            return \"\".join(tape)  # Halt\n",
    "    \n",
    "        head -= 1  # Move left\n",
    "    \n",
    "    # If we carried through all bits, add a new 1 at the beginning\n",
    "    return \"1\" + \"\".join(tape)\n",
    "\n",
    "# Example Test Cases\n",
    "binary_numbers = [\"100111\", \"111\", \"0\", \"1\", \"1111\"]\n",
    "\n",
    "for num in binary_numbers:\n",
    "    result = turing_machine_add_one(num)\n",
    "    print(f\"Input: {num} -> Output: {result}\")\n"
   ]
  },
  {
   "cell_type": "markdown",
   "metadata": {},
   "source": [
    "## **Simulation of the Turing Machine**\n",
    "\n",
    "### **How It Works**\n",
    "1. **Start at the right-most bit**.\n",
    "2. **If we see a `1`**, change it to `0` (carry the 1).\n",
    "3. **If we see a `0`**, change it to `1` and stop.\n",
    "4. **If all bits are flipped (`111...` turns into `000...`), add a `1` at the beginning**.\n",
    "\n",
    "### **Example Outputs**\n",
    "| **Input** | **Output** |\n",
    "|----------|----------|\n",
    "| `100111` | `101000` |\n",
    "| `111` | `1000` |\n",
    "| `0` | `1` |\n",
    "| `1` | `10` |\n",
    "| `1111` | `10000` |\n",
    "\n",
    "\n"
   ]
  }
 ],
 "metadata": {
  "kernelspec": {
   "display_name": "Python 3",
   "language": "python",
   "name": "python3"
  },
  "language_info": {
   "codemirror_mode": {
    "name": "ipython",
    "version": 3
   },
   "file_extension": ".py",
   "mimetype": "text/x-python",
   "name": "python",
   "nbconvert_exporter": "python",
   "pygments_lexer": "ipython3",
   "version": "3.12.6"
  }
 },
 "nbformat": 4,
 "nbformat_minor": 2
}
