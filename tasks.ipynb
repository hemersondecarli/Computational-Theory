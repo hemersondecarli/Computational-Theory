{
 "cells": [
  {
   "cell_type": "markdown",
   "metadata": {},
   "source": [
    "# Task 1: Binary Representations\n",
    "\n",
    "Create the following functions in Python, demonstrating their use with examples and tests.\n",
    "\n",
    "The function rotl(x, n=1) that rotates the bits in a 32-bit unsigned integer to the left n places.\n",
    "\n",
    "The function rotr(x, n=1) that rotates the bits in a 32-bit unsigned integer to the right n places.\n",
    "\n",
    "The function ch(x, y, z) that chooses the bits from y where x has bits set to 1 and bits in z where x has bits set to 0.\n",
    "\n",
    "The function maj(x, y, z) which takes a majority vote of the bits in x, y, and z.\n",
    "The output should have a 1 in bit position i where at least two of x, y, and z have 1's in position i.\n",
    "All other output bit positions should be 0.\n",
    "\n",
    "##### REF: https://realpython.com/python-bitwise-operators/\n"
   ]
  },
  {
   "cell_type": "code",
   "execution_count": 4,
   "metadata": {},
   "outputs": [
    {
     "name": "stdout",
     "output_type": "stream",
     "text": [
      "rotl(x, 4): 0b111000111100001111000011111011\n",
      "rotr(x, 4): 0b11111011001110001111000011110000\n",
      "ch(x, y, z): 0b11000000111111001111110011111100\n",
      "maj(x, y, z): 0b11110000110011001100110011001100\n"
     ]
    }
   ],
   "source": [
    "def rotl(x, n=1):\n",
    "    \"\"\"Rotate the bits in a 32-bit unsigned integer to the left n places.\"\"\"\n",
    "    return ((x << n) | (x >> (32 - n))) & 0xFFFFFFFF\n",
    "\n",
    "def rotr(x, n=1):\n",
    "    \"\"\"Rotate the bits in a 32-bit unsigned integer to the right n places.\"\"\"\n",
    "    return ((x >> n) | (x << (32 - n))) & 0xFFFFFFFF\n",
    "\n",
    "def ch(x, y, z):\n",
    "    \"\"\"Choose bits from y where x has bits set to 1 and bits from z where x has bits set to 0.\"\"\"\n",
    "    return (x & y) ^ (~x & z)\n",
    "\n",
    "def maj(x, y, z):\n",
    "    \"\"\"Majority function: output bit is 1 where at least two of x, y, and z have 1's.\"\"\"\n",
    "    return (x & y) ^ (x & z) ^ (y & z)\n",
    "\n",
    "# Example usage with test values\n",
    "x = 0b10110011100011110000111100001111  # Example 32-bit binary number\n",
    "y = 0b11001100110011001100110011001100  #  test binary number\n",
    "z = 0b11110000111100001111000011110000  #  test binary number\n",
    "\n",
    "# Rotate left and print result\n",
    "print(\"rotl(x, 4):\", bin(rotl(x, 4)))  # Rotates x left by 4 bits\n",
    "\n",
    "# Rotate right and print result\n",
    "print(\"rotr(x, 4):\", bin(rotr(x, 4)))  # Rotates x right by 4 bits\n",
    "\n",
    "# Apply the ch function and print result\n",
    "print(\"ch(x, y, z):\", bin(ch(x, y, z)))  # Chooses bits from y or z based on x\n",
    "\n",
    "# Apply the maj function and print result\n",
    "print(\"maj(x, y, z):\", bin(maj(x, y, z)))  # Outputs the majority vote of bits\n"
   ]
  },
  {
   "cell_type": "markdown",
   "metadata": {},
   "source": [
    "# Task 2: Hash Functions\n",
    "The following hash function is from The C Programming Language by Brian Kernighan and Dennis Ritchie.\n",
    "Convert it to Python, test it, and suggest why the values 31 and 101 are used.\n",
    "\n",
    "unsigned hash(char *s) {\n",
    "    unsigned hashval;\n",
    "    for (hashval = 0; *s != '\\0'; s++)\n",
    "        hashval = *s + 31 * hashval;\n",
    "    return hashval % 101;\n",
    "}"
   ]
  },
  {
   "cell_type": "code",
   "execution_count": null,
   "metadata": {},
   "outputs": [
    {
     "name": "stdout",
     "output_type": "stream",
     "text": [
      "Hash of 'hello': 17\n",
      "Hash of 'world': 34\n",
      "Hash of 'hash': 15\n",
      "Hash of 'function': 100\n",
      "Hash of 'example': 28\n"
     ]
    }
   ],
   "source": [
    "def hash_function(s: str) -> int:\n",
    "    hashval = 0\n",
    "    for char in s:\n",
    "        hashval = ord(char) + 31 * hashval  # 31 is a prime number used as a multiplier.\n",
    "    return hashval % 101  # 101 is a prime number used as the modulus.\n",
    "\n",
    "# Example\n",
    "if __name__ == \"__main__\":\n",
    "    test_strings = [\"hello\", \"world\", \"hash\", \"function\", \"example\"]\n",
    "    for string in test_strings:\n",
    "        print(f\"Hash of '{string}': {hash_function(string)}\")\n"
   ]
  },
  {
   "cell_type": "markdown",
   "metadata": {},
   "source": [
    "# suggest why the values 31 and 101 are used\n",
    "31 is being used because it is a small prime number that distributes hash values efficiently and allows for fast computation.\n",
    "\n",
    "101 is being used because it is a prime number that ensures an even distribution of hash values and prevents common patterns in character sets."
   ]
  },
  {
   "cell_type": "markdown",
   "metadata": {},
   "source": [
    "# Task 3: SHA256\n",
    "Write a Python function that calculates the SHA256 padding for a given file.\n",
    "The function should take a file path as input.\n",
    "It should print, in hex, the padding that would be applied to it.\n",
    "The specification states that the following should be appended to a message:\n",
    "\n",
    "a1 bit;\n",
    "enough 0 bits so the length in bits of padded message is the smallest possible multiple of 512;\n",
    "the length in bits of the original input as a big-endian 64-bit unsigned integer.\n",
    "\n",
    "### The example in the specification is a file containing the three bytes abc:\n",
    "\n",
    "01100001 01100010 01100011\n",
    "\n",
    "### The output would be:\n",
    "\n",
    "80 00 00 00 00 00 00 00 00 00 00 00 00 00 00 00 00 00 00 00 00 00 00 00 00 00\n",
    "00 00 00 00 00 00 00 00 00 00 00 00 00 00 00 00 00 00 00 00 00 00 00 00 00 00\n",
    "00 00 00 00 00 00 00 00 18"
   ]
  },
  {
   "cell_type": "markdown",
   "metadata": {},
   "source": [
    "## Added function to read file content as bytes\n"
   ]
  },
  {
   "cell_type": "code",
   "execution_count": 20,
   "metadata": {},
   "outputs": [
    {
     "name": "stdout",
     "output_type": "stream",
     "text": [
      "File Content in Hex: 616263\n"
     ]
    }
   ],
   "source": [
    "def read_file(file_path):\n",
    "    \"\"\"Read the file as bytes.\"\"\"\n",
    "    with open(file_path, \"rb\") as f:\n",
    "        data = f.read()\n",
    "    return data\n",
    "\n",
    "file_path = \"abc.txt\"  # File Path\n",
    "data = read_file(file_path)\n",
    "print(\"File Content in Hex:\", data.hex())\n"
   ]
  },
  {
   "cell_type": "markdown",
   "metadata": {},
   "source": [
    "## Added function to compute original message length in bits\n"
   ]
  },
  {
   "cell_type": "code",
   "execution_count": 23,
   "metadata": {},
   "outputs": [
    {
     "name": "stdout",
     "output_type": "stream",
     "text": [
      "Original Message Length in Bits: 24\n"
     ]
    }
   ],
   "source": [
    "def compute_message_length(data):\n",
    "    \"\"\"Compute the original message length in bits.\"\"\"\n",
    "    return len(data) * 8\n",
    "\n",
    "original_length_bits = compute_message_length(data)\n",
    "print(f\"Original Message Length in Bits: {original_length_bits}\")\n"
   ]
  },
  {
   "cell_type": "markdown",
   "metadata": {},
   "source": [
    "## Added function to append '1' bit (0x80) to message\n"
   ]
  },
  {
   "cell_type": "code",
   "execution_count": 24,
   "metadata": {},
   "outputs": [
    {
     "name": "stdout",
     "output_type": "stream",
     "text": [
      "Data after adding '1' bit (hex): 61626380\n"
     ]
    }
   ],
   "source": [
    "def append_one_bit(data):\n",
    "    \"\"\"Append the '1' bit (0x80 in hex) to the message.\"\"\"\n",
    "    return data + b'\\x80'\n",
    "\n",
    "# Test Part 3\n",
    "data_with_one_bit = append_one_bit(data)\n",
    "print(\"Data after adding '1' bit (hex):\", data_with_one_bit.hex())\n"
   ]
  }
 ],
 "metadata": {
  "kernelspec": {
   "display_name": "Python 3",
   "language": "python",
   "name": "python3"
  },
  "language_info": {
   "codemirror_mode": {
    "name": "ipython",
    "version": 3
   },
   "file_extension": ".py",
   "mimetype": "text/x-python",
   "name": "python",
   "nbconvert_exporter": "python",
   "pygments_lexer": "ipython3",
   "version": "3.12.6"
  }
 },
 "nbformat": 4,
 "nbformat_minor": 2
}
