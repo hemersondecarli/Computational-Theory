{
 "cells": [
  {
   "cell_type": "markdown",
   "metadata": {},
   "source": [
    "# Task 1: Binary Representations\n",
    "\n",
    "Create the following functions in Python, demonstrating their use with examples and tests.\n",
    "\n",
    "The function rotl(x, n=1) that rotates the bits in a 32-bit unsigned integer to the left n places.\n",
    "\n",
    "The function rotr(x, n=1) that rotates the bits in a 32-bit unsigned integer to the right n places.\n",
    "\n",
    "The function ch(x, y, z) that chooses the bits from y where x has bits set to 1 and bits in z where x has bits set to 0.\n",
    "\n",
    "The function maj(x, y, z) which takes a majority vote of the bits in x, y, and z.\n",
    "The output should have a 1 in bit position i where at least two of x, y, and z have 1's in position i.\n",
    "All other output bit positions should be 0.\n",
    "\n",
    "##### REF: https://realpython.com/python-bitwise-operators/\n"
   ]
  },
  {
   "cell_type": "code",
   "execution_count": null,
   "metadata": {},
   "outputs": [
    {
     "name": "stdout",
     "output_type": "stream",
     "text": [
      "rotl(x, 4): 0b111000111100001111000011111011\n",
      "rotr(x, 4): 0b11111011001110001111000011110000\n",
      "ch(x, y, z): 0b11000000111111001111110011111100\n",
      "maj(x, y, z): 0b11110000110011001100110011001100\n"
     ]
    }
   ],
   "source": [
    "def rotl(x, n=1):\n",
    "    \"\"\"Rotate the bits in a 32-bit unsigned integer to the left n places.\"\"\"\n",
    "    return ((x << n) | (x >> (32 - n))) & 0xFFFFFFFF\n",
    "\n",
    "def rotr(x, n=1):\n",
    "    \"\"\"Rotate the bits in a 32-bit unsigned integer to the right n places.\"\"\"\n",
    "    return ((x >> n) | (x << (32 - n))) & 0xFFFFFFFF\n",
    "\n",
    "def ch(x, y, z):\n",
    "    \"\"\"Choose bits from y where x has bits set to 1 and bits from z where x has bits set to 0.\"\"\"\n",
    "    return (x & y) ^ (~x & z)\n",
    "\n",
    "def maj(x, y, z):\n",
    "    \"\"\"Majority function: output bit is 1 where at least two of x, y, and z have 1's.\"\"\"\n",
    "    return (x & y) ^ (x & z) ^ (y & z)\n",
    "\n",
    "# Example usage with test values\n",
    "x = 0b10110011100011110000111100001111  # Example 32-bit binary number\n",
    "y = 0b11001100110011001100110011001100  #  test binary number\n",
    "z = 0b11110000111100001111000011110000  #  test binary number\n",
    "\n",
    "# Rotate left and print result\n",
    "print(\"rotl(x, 4):\", bin(rotl(x, 4)))  # Rotates x left by 4 bits\n",
    "\n",
    "# Rotate right and print result\n",
    "print(\"rotr(x, 4):\", bin(rotr(x, 4)))  # Rotates x right by 4 bits\n",
    "\n",
    "# Apply the ch function and print result\n",
    "print(\"ch(x, y, z):\", bin(ch(x, y, z)))  # Chooses bits from y or z based on x\n",
    "\n",
    "# Apply the maj function and print result\n",
    "print(\"maj(x, y, z):\", bin(maj(x, y, z)))  # Outputs the majority vote of bits\n"
   ]
  },
  {
   "cell_type": "markdown",
   "metadata": {},
   "source": [
    "# Task 2: Hash Functions\n",
    "The following hash function is from The C Programming Language by Brian Kernighan and Dennis Ritchie.\n",
    "Convert it to Python, test it, and suggest why the values 31 and 101 are used.\n",
    "\n",
    "unsigned hash(char *s) {\n",
    "    unsigned hashval;\n",
    "    for (hashval = 0; *s != '\\0'; s++)\n",
    "        hashval = *s + 31 * hashval;\n",
    "    return hashval % 101;\n",
    "}"
   ]
  },
  {
   "cell_type": "code",
   "execution_count": null,
   "metadata": {},
   "outputs": [
    {
     "name": "stdout",
     "output_type": "stream",
     "text": [
      "Hash of 'hello': 17\n",
      "Hash of 'world': 34\n",
      "Hash of 'hash': 15\n",
      "Hash of 'function': 100\n",
      "Hash of 'example': 28\n"
     ]
    }
   ],
   "source": [
    "def hash_function(s: str) -> int:\n",
    "    hashval = 0\n",
    "    for char in s:\n",
    "        hashval = ord(char) + 31 * hashval  # 31 is a prime number used as a multiplier.\n",
    "    return hashval % 101  # 101 is a prime number used as the modulus.\n",
    "\n",
    "# Example\n",
    "if __name__ == \"__main__\":\n",
    "    test_strings = [\"hello\", \"world\", \"hash\", \"function\", \"example\"]\n",
    "    for string in test_strings:\n",
    "        print(f\"Hash of '{string}': {hash_function(string)}\")\n"
   ]
  },
  {
   "cell_type": "markdown",
   "metadata": {},
   "source": [
    "# suggest why the values 31 and 101 are used\n",
    "31 is being used because it is a small prime number that distributes hash values efficiently and allows for fast computation.\n",
    "\n",
    "101 is being used because it is a prime number that ensures an even distribution of hash values and prevents common patterns in character sets."
   ]
  },
  {
   "cell_type": "markdown",
   "metadata": {},
   "source": [
    "# Task 3: SHA256\n",
    "Write a Python function that calculates the SHA256 padding for a given file.\n",
    "The function should take a file path as input.\n",
    "It should print, in hex, the padding that would be applied to it.\n",
    "The specification states that the following should be appended to a message:\n",
    "\n",
    "a1 bit;\n",
    "enough 0 bits so the length in bits of padded message is the smallest possible multiple of 512;\n",
    "the length in bits of the original input as a big-endian 64-bit unsigned integer.\n",
    "\n",
    "### The example in the specification is a file containing the three bytes abc:\n",
    "\n",
    "01100001 01100010 01100011\n",
    "\n",
    "### The output would be:\n",
    "\n",
    "80 00 00 00 00 00 00 00 00 00 00 00 00 00 00 00 00 00 00 00 00 00 00 00 00 00\n",
    "00 00 00 00 00 00 00 00 00 00 00 00 00 00 00 00 00 00 00 00 00 00 00 00 00 00\n",
    "00 00 00 00 00 00 00 00 18"
   ]
  },
  {
   "cell_type": "markdown",
   "metadata": {},
   "source": [
    "## Added function to read file content as bytes\n"
   ]
  },
  {
   "cell_type": "code",
   "execution_count": null,
   "metadata": {},
   "outputs": [
    {
     "name": "stdout",
     "output_type": "stream",
     "text": [
      "File Content in Hex: 616263\n"
     ]
    }
   ],
   "source": [
    "def read_file(file_path):\n",
    "    \"\"\"Read the file as bytes.\"\"\"\n",
    "    with open(file_path, \"rb\") as f:\n",
    "        data = f.read()\n",
    "    return data\n",
    "\n",
    "file_path = \"abc.txt\"  # File Path\n",
    "data = read_file(file_path)\n",
    "print(\"File Content in Hex:\", data.hex())\n"
   ]
  },
  {
   "cell_type": "markdown",
   "metadata": {},
   "source": [
    "## Added function to compute original message length in bits\n"
   ]
  },
  {
   "cell_type": "code",
   "execution_count": null,
   "metadata": {},
   "outputs": [
    {
     "name": "stdout",
     "output_type": "stream",
     "text": [
      "Original Message Length in Bits: 24\n"
     ]
    }
   ],
   "source": [
    "def compute_message_length(data):\n",
    "    \"\"\"Compute the original message length in bits.\"\"\"\n",
    "    return len(data) * 8\n",
    "\n",
    "original_length_bits = compute_message_length(data)\n",
    "print(f\"Original Message Length in Bits: {original_length_bits}\")\n"
   ]
  },
  {
   "cell_type": "markdown",
   "metadata": {},
   "source": [
    "## Added function to append '1' bit (0x80) to message\n"
   ]
  },
  {
   "cell_type": "code",
   "execution_count": null,
   "metadata": {},
   "outputs": [
    {
     "name": "stdout",
     "output_type": "stream",
     "text": [
      "Data after adding '1' bit (hex): 61626380\n"
     ]
    }
   ],
   "source": [
    "def append_one_bit(data):\n",
    "    \"\"\"Append the '1' bit (0x80 in hex) to the message.\"\"\"\n",
    "    return data + b'\\x80'\n",
    "\n",
    "\n",
    "data_with_one_bit = append_one_bit(data)\n",
    "print(\"Data after adding '1' bit (hex):\", data_with_one_bit.hex())\n"
   ]
  },
  {
   "cell_type": "markdown",
   "metadata": {},
   "source": [
    "## Added function to compute required zero padding\n"
   ]
  },
  {
   "cell_type": "code",
   "execution_count": null,
   "metadata": {},
   "outputs": [
    {
     "name": "stdout",
     "output_type": "stream",
     "text": [
      "Zero Padding Length: 51 bytes\n",
      "Zero Padding in Hex: 000000000000000000000000000000000000000000000000000000000000000000000000000000000000000000000000000000\n"
     ]
    }
   ],
   "source": [
    "def compute_zero_padding(data):\n",
    "    \"\"\"Calculate the number of zero bytes needed so that the length is 448 mod 512.\"\"\"\n",
    "    padding_length = (56 - (len(data) + 1) % 64) % 64\n",
    "    return b'\\x00' * padding_length\n",
    "\n",
    "\n",
    "zero_padding = compute_zero_padding(data_with_one_bit)\n",
    "print(f\"Zero Padding Length: {len(zero_padding)} bytes\")\n",
    "print(\"Zero Padding in Hex:\", zero_padding.hex())\n"
   ]
  },
  {
   "cell_type": "markdown",
   "metadata": {},
   "source": [
    "## Added function to append original message length as 64-bit big-endian integer\n"
   ]
  },
  {
   "cell_type": "code",
   "execution_count": null,
   "metadata": {},
   "outputs": [
    {
     "name": "stdout",
     "output_type": "stream",
     "text": [
      "Original Length in 64-bit Big-Endian (Hex): 0000000000000018\n"
     ]
    }
   ],
   "source": [
    "def append_message_length(data_length_bits):\n",
    "    \"\"\"Append the original message length as a 64-bit big-endian integer.\"\"\"\n",
    "    return data_length_bits.to_bytes(8, 'big')\n",
    "\n",
    "\n",
    "length_bytes = append_message_length(original_length_bits)\n",
    "print(\"Original Length in 64-bit Big-Endian (Hex):\", length_bytes.hex())\n"
   ]
  },
  {
   "cell_type": "markdown",
   "metadata": {},
   "source": [
    "## Full SHA-256 padding"
   ]
  },
  {
   "cell_type": "code",
   "execution_count": 50,
   "metadata": {},
   "outputs": [
    {
     "name": "stdout",
     "output_type": "stream",
     "text": [
      "File content in hex: 616263\n",
      "Original message length in bits: 24\n",
      "Data after appending '1' bit: 61626380\n",
      "Appending 52 zero bits.\n",
      "Original length in 64-bit big-endian (Hex): 0000000000000018\n",
      "--------------------------------------------------------------------------------\n",
      "Final Padded Message in Hex:\n",
      "61 62 63 80 00 00 00 00 00 00 00 00 00 00 00 00 00 00 00 00 00 00 00 00 00 00 00 00 00 00 00 00 00 00 00 00 00 00 00 00 00 00 00 00 00 00 00 00 00 00 00 00 00 00 00 00 00 00 00 00 00 00 00 18\n"
     ]
    }
   ],
   "source": [
    "import os\n",
    "\n",
    "# Read file content as bytes\n",
    "def read_file(file_path):\n",
    "    \"\"\"Read the file as bytes.\"\"\"\n",
    "    with open(file_path, \"rb\") as f:\n",
    "        data = f.read()\n",
    "    return data\n",
    "\n",
    "# Compute original message length in bits\n",
    "def compute_message_length(data):\n",
    "    \"\"\"Compute the original message length in bits.\"\"\"\n",
    "    return len(data) * 8  # Length in bits\n",
    "\n",
    "# Append '1' Bit (0x80)\n",
    "def append_one_bit(data):\n",
    "    \"\"\"Append the '1' bit (0x80 in hex) to the message.\"\"\"\n",
    "    return data + b'\\x80'\n",
    "\n",
    "# Compute Zero Padding (448 mod 512)\n",
    "def compute_zero_padding(data):\n",
    "    \"\"\"Calculate the number of zero bytes needed so that the length is 448 mod 512.\"\"\"\n",
    "    padding_length = (56 - (len(data) % 64)) % 64\n",
    "    return b'\\x00' * padding_length\n",
    "\n",
    "# Append Message Length as 64-bit Big-Endian Integer\n",
    "def append_message_length(data_length_bits):\n",
    "    \"\"\"Append the original message length as a 64-bit big-endian integer.\"\"\"\n",
    "    return data_length_bits.to_bytes(8, 'big')\n",
    "\n",
    "# Final Function to Compute SHA-256 Padding\n",
    "def sha256_padding(file_path):\n",
    "    \"\"\"Compute and display the SHA-256 padding for a given file.\"\"\"\n",
    "\n",
    "    # Read file content\n",
    "    data = read_file(file_path)\n",
    "    print(\"File content in hex:\", data.hex())\n",
    "\n",
    "    # Compute original length\n",
    "    original_length_bits = compute_message_length(data)\n",
    "    print(f\"Original message length in bits: {original_length_bits}\")\n",
    "\n",
    "    # Append '1' bit (0x80)\n",
    "    data_with_one_bit = append_one_bit(data)\n",
    "    print(\"Data after appending '1' bit:\", data_with_one_bit.hex())\n",
    "\n",
    "    # Compute zero padding\n",
    "    zero_padding = compute_zero_padding(data_with_one_bit)\n",
    "    print(f\"Appending {len(zero_padding)} zero bits.\")\n",
    "\n",
    "    # Append length as 64-bit big-endian integer\n",
    "    length_bytes = append_message_length(original_length_bits)\n",
    "    print(\"Original length in 64-bit big-endian (Hex):\", length_bytes.hex())\n",
    "\n",
    "    # Construct the full padded message (original message + padding + length)\n",
    "    padded_message = data_with_one_bit + zero_padding + length_bytes\n",
    "\n",
    "    # Final message is a multiple of 64 bytes (512 bits)\n",
    "    assert len(padded_message) % 64 == 0, \"Error: Final message is not a multiple of 64 bytes!\"\n",
    "\n",
    "    print(\"-\" * 80)\n",
    "    print(\"Final Padded Message in Hex:\")\n",
    "    print(\" \".join(f\"{byte:02x}\" for byte in padded_message))\n",
    "\n",
    "    return padded_message \n",
    "\n",
    "file_path = \"abc.txt\"  # file path\n",
    "padded_output = sha256_padding(file_path)\n"
   ]
  },
  {
   "cell_type": "markdown",
   "metadata": {},
   "source": [
    "# Task 4: Prime Numbers\n",
    "\n",
    "Calculate the first 100 prime numbers using two different algorithms.\n",
    "Any algorithms that are well-established and works correctly are okay to use.\n",
    "Explain how the algorithms work."
   ]
  },
  {
   "cell_type": "markdown",
   "metadata": {},
   "source": [
    "### **Trial Division Algorithm**: A basic method that checks divisibility up to the square root of the number."
   ]
  },
  {
   "cell_type": "code",
   "execution_count": 3,
   "metadata": {},
   "outputs": [
    {
     "name": "stdout",
     "output_type": "stream",
     "text": [
      "First 100 primes (Trial Division): [2, 3, 5, 7, 11, 13, 17, 19, 23, 29, 31, 37, 41, 43, 47, 53, 59, 61, 67, 71, 73, 79, 83, 89, 97, 101, 103, 107, 109, 113, 127, 131, 137, 139, 149, 151, 157, 163, 167, 173, 179, 181, 191, 193, 197, 199, 211, 223, 227, 229, 233, 239, 241, 251, 257, 263, 269, 271, 277, 281, 283, 293, 307, 311, 313, 317, 331, 337, 347, 349, 353, 359, 367, 373, 379, 383, 389, 397, 401, 409, 419, 421, 431, 433, 439, 443, 449, 457, 461, 463, 467, 479, 487, 491, 499, 503, 509, 521, 523, 541]\n"
     ]
    }
   ],
   "source": [
    "import math\n",
    "\n",
    "def is_prime(n):\n",
    "    \"\"\"Check if a number is prime using trial division.\"\"\"\n",
    "    if n < 2:\n",
    "        return False\n",
    "    if n in (2, 3):\n",
    "        return True\n",
    "    if n % 2 == 0 or n % 3 == 0:\n",
    "        return False\n",
    "    for i in range(5, int(math.sqrt(n)) + 1, 2):  # Check for odd numbers only\n",
    "        if n % i == 0:\n",
    "            return False\n",
    "    return True\n",
    "\n",
    "def first_n_primes_trial(n):\n",
    "    \"\"\"Find the first n prime numbers using trial division.\"\"\"\n",
    "    primes = []\n",
    "    num = 2\n",
    "    while len(primes) < n:\n",
    "        if is_prime(num):\n",
    "            primes.append(num)\n",
    "        num += 1\n",
    "    return primes\n",
    "\n",
    "# Creates & display the first 100 prime numbers using trial division\n",
    "primes_trial = first_n_primes_trial(100)\n",
    "print(\"First 100 primes (Trial Division):\", primes_trial)\n"
   ]
  },
  {
   "cell_type": "markdown",
   "metadata": {},
   "source": [
    "### Trial Division Algorithm\n",
    "\n",
    "#### How It Works:\n",
    "1. Start with `2`, the first prime.\n",
    "2. Check if each number is divisible only by 1 and itself.\n",
    "3. Optimize by checking divisibility only up to the square root of the number.\n",
    "4. If a number is not divisible by any value in this range, it's a prime number."
   ]
  },
  {
   "cell_type": "markdown",
   "metadata": {},
   "source": [
    "### **Sieve of Eratosthenes**: A faster algorithm for generating multiple prime numbers efficiently."
   ]
  },
  {
   "cell_type": "code",
   "execution_count": 4,
   "metadata": {},
   "outputs": [
    {
     "name": "stdout",
     "output_type": "stream",
     "text": [
      "First 100 primes (Sieve of Eratosthenes): [2, 3, 5, 7, 11, 13, 17, 19, 23, 29, 31, 37, 41, 43, 47, 53, 59, 61, 67, 71, 73, 79, 83, 89, 97, 101, 103, 107, 109, 113, 127, 131, 137, 139, 149, 151, 157, 163, 167, 173, 179, 181, 191, 193, 197, 199, 211, 223, 227, 229, 233, 239, 241, 251, 257, 263, 269, 271, 277, 281, 283, 293, 307, 311, 313, 317, 331, 337, 347, 349, 353, 359, 367, 373, 379, 383, 389, 397, 401, 409, 419, 421, 431, 433, 439, 443, 449, 457, 461, 463, 467, 479, 487, 491, 499, 503, 509, 521, 523, 541]\n"
     ]
    }
   ],
   "source": [
    "def sieve_of_eratosthenes(limit):\n",
    "    \"\"\"Find all prime numbers up to a given limit using the Sieve of Eratosthenes.\"\"\"\n",
    "    sieve = [True] * (limit + 1)  # Assume all numbers are prime initially\n",
    "    sieve[0], sieve[1] = False, False  # 0 and 1 are not prime\n",
    "\n",
    "    for num in range(2, int(math.sqrt(limit)) + 1):\n",
    "        if sieve[num]:  # If num is still marked prime\n",
    "            for multiple in range(num * num, limit + 1, num):  # Mark its multiples as non-prime\n",
    "                sieve[multiple] = False\n",
    "\n",
    "    return [num for num, is_prime in enumerate(sieve) if is_prime]\n",
    "\n",
    "# Create & display the first 100 prime numbers using the Sieve of Eratosthenes\n",
    "primes_sieve = sieve_of_eratosthenes(550)[:100]  # Find enough primes\n",
    "print(\"First 100 primes (Sieve of Eratosthenes):\", primes_sieve)\n"
   ]
  },
  {
   "cell_type": "markdown",
   "metadata": {},
   "source": [
    "### Sieve of Eratosthenes Algorithm\n",
    "\n",
    "#### How It Works:\n",
    "1. Start with a list of numbers marked as prime.\n",
    "2. Beginning with `2`, mark all multiples of 2 as non-prime.\n",
    "3. Move to the next unmarked number and mark all its multiples.\n",
    "4. Continue this process up to the square root of the limit.\n",
    "5. The remaining unmarked numbers are prime."
   ]
  },
  {
   "cell_type": "markdown",
   "metadata": {},
   "source": [
    "# Comparing Trial Division vs Sieve of Eratosthenes"
   ]
  },
  {
   "cell_type": "code",
   "execution_count": 7,
   "metadata": {},
   "outputs": [
    {
     "name": "stdout",
     "output_type": "stream",
     "text": [
      "Trial Division Time: 0.001001 seconds\n",
      "Sieve of Eratosthenes Time: 0.000000 seconds\n"
     ]
    }
   ],
   "source": [
    "import time\n",
    "\n",
    "# Measure execution time of Trial Division\n",
    "start_time = time.time()\n",
    "primes_trial = first_n_primes_trial(100)\n",
    "trial_time = time.time() - start_time\n",
    "\n",
    "# Measure execution time of Sieve of Eratosthenes\n",
    "start_time = time.time()\n",
    "primes_sieve = sieve_of_eratosthenes(550)[:100]\n",
    "sieve_time = time.time() - start_time\n",
    "\n",
    "# results\n",
    "print(f\"Trial Division Time: {trial_time:.6f} seconds\")\n",
    "print(f\"Sieve of Eratosthenes Time: {sieve_time:.6f} seconds\")\n"
   ]
  },
  {
   "cell_type": "markdown",
   "metadata": {},
   "source": [
    "# Task 5: Roots\n",
    "Calculate the first 32 bits of the fractional part of the square roots of the first 100 prime numbers."
   ]
  }
 ],
 "metadata": {
  "kernelspec": {
   "display_name": "Python 3",
   "language": "python",
   "name": "python3"
  },
  "language_info": {
   "codemirror_mode": {
    "name": "ipython",
    "version": 3
   },
   "file_extension": ".py",
   "mimetype": "text/x-python",
   "name": "python",
   "nbconvert_exporter": "python",
   "pygments_lexer": "ipython3",
   "version": "3.12.6"
  }
 },
 "nbformat": 4,
 "nbformat_minor": 2
}
